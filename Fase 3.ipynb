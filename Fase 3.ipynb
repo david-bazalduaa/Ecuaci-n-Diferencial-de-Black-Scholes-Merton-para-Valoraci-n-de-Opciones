{
 "cells": [
  {
   "cell_type": "markdown",
   "metadata": {},
   "source": [
    "# Fase 3: An\u00e1lisis de Estabilidad del Sistema"
   ]
  },
  {
   "cell_type": "markdown",
   "metadata": {},
   "source": [
    "## Objetivo\n",
    "Analizar la estabilidad del sistema resultante de la discretizaci\u00f3n realizada en la Fase 2, considerando tanto la estabilidad en tiempo continuo (valores propios) como en tiempo discreto (estabilidad Schur)."
   ]
  },
  {
   "cell_type": "markdown",
   "metadata": {},
   "source": [
    "## 1. Sistema Din\u00e1mico Discretizado\n",
    "Recordando la Fase 2, a partir de la discretizaci\u00f3n espacial $x = \\ln(S)$ se obtuvo el sistema de ecuaciones diferenciales ordinarias:\n",
    "$$\\dot{v}_i(t) = \\frac{\\sigma^2}{2} \\cdot \\frac{v_{i+1}(t) - 2v_i(t) + v_{i-1}(t)}{(\\Delta x)^2} + \\left(r - \\frac{\\sigma^2}{2}\\right) \\cdot \\frac{v_{i+1}(t) - v_{i-1}(t)}{2\\Delta x} - r v_i(t)$$"
   ]
  },
  {
   "cell_type": "markdown",
   "metadata": {},
   "source": [
    "## 2. Estructura de la matriz $A$\n",
    "Los elementos de la matriz tridiagonal $A$ son constantes, definidos por los coeficientes:\n",
    "$$\\alpha = \\frac{1}{2} \\cdot \\frac{\\sigma^2}{(\\Delta x)^2}, \\quad \\beta = \\frac{r - \\frac{1}{2} \\sigma^2}{2 \\Delta x}$$\n",
    "Entonces, los valores de la matriz son:\n",
    "$$a = -2\\alpha + r, \\quad b = \\alpha + \\beta, \\quad c = \\alpha - \\beta$$\n",
    "Y la estructura matricial es:\n",
    "$$A = \\begin{pmatrix}a & b & & \\\\ c & a & b & \\\\ & \\ddots & \\ddots & \\ddots \\\\ & & c & a\\end{pmatrix}$$"
   ]
  },
  {
   "cell_type": "markdown",
   "metadata": {},
   "source": [
    "## 3. Estabilidad en Tiempo Continuo\n",
    "Para el sistema continuo $\\dot{v} = Av$, la estabilidad est\u00e1 determinada por los valores propios $\\lambda_k$ de $A$:\n",
    "$$\\lambda_k = a + 2\\sqrt{bc} \\cos\\left( \\frac{k\\pi}{N} \\right), \\quad k = 1, 2, \\ldots, N-1$$\n",
    "**Condici\u00f3n de estabilidad:**\n",
    "$$\\text{Re}(\\lambda_k) < 0 \\quad \\forall k \\implies a + 2\\sqrt{|bc|} < 0$$\n",
    "Lo que lleva a la condici\u00f3n pr\u00e1ctica:\n",
    "$$r < \\frac{\\sigma^2}{(\\Delta x)^2}$$"
   ]
  },
  {
   "cell_type": "markdown",
   "metadata": {},
   "source": [
    "## 4. Estabilidad en Tiempo Discreto\n",
    "A partir del sistema lineal homog\u00e9neo discretizado espacialmente:\n",
    "$$\\dot{v}(t) = A v(t)$$\n",
    "se implementa ahora una discretizaci\u00f3n temporal utilizando un esquema $\\theta$-m\u00e9todo, con paso de tiempo $\\Delta t$, lo cual da lugar al sistema en diferencias:\n",
    "$$v^{n+1} = B v^n, \\quad B = (I - \\theta \\Delta t A)^{-1}(I + (1 - \\theta) \\Delta t A)$$\n",
    "donde la matriz $B$ representa el operador de evoluci\u00f3n temporal. Esta forma permite analizar la estabilidad del sistema bajo el criterio de Schur, que exige:\n",
    "$$|\\mu_k| \\leq 1 \\quad \\text{para todo valor propio } \\mu_k \\text{ de } B$$\n",
    "Se sabe que los valores propios de $B$ est\u00e1n relacionados con los de $A$, denotados $\\lambda_k$, mediante la transformaci\u00f3n racional:\n",
    "$$\\mu_k = \\frac{1 + (1 - \\theta)\\Delta t \\lambda_k}{1 - \\theta \\Delta t \\lambda_k}$$\n",
    "Para que se cumpla la condici\u00f3n de estabilidad $|\\mu_k| \\leq 1$, se requiere que:\n",
    "$$\\lambda_k \\leq -\\frac{2}{\\Delta t}$$\n",
    "Recordando que los valores propios de $A$ est\u00e1n dados por:\n",
    "$$\\lambda_k = a + 2\\sqrt{bc} \\cos\\left( \\frac{k\\pi}{N} \\right)$$\n",
    "y que el valor m\u00e1ximo de $\\lambda_k$ ocurre cuando $\\cos\\left( \\frac{k\\pi}{N} \\right) = 1$, se obtiene la siguiente desigualdad que deben satisfacer los coeficientes $a$, $b$ y $c$ para garantizar la estabilidad temporal:\n",
    "$$a + 2\\sqrt{bc} \\leq -\\frac{2}{\\Delta t}$$"
   ]
  }
 ],
 "metadata": {
  "kernelspec": {
   "display_name": "Python 3",
   "language": "python",
   "name": "python3"
  },
  "language_info": {
   "name": "python",
   "version": ""
  }
 },
 "nbformat": 4,
 "nbformat_minor": 2
}
