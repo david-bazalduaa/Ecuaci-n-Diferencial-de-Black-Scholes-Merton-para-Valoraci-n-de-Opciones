{
 "cells": [
  {
   "cell_type": "markdown",
   "metadata": {},
   "source": [
    "# Fase 3: Análisis de Estabilidad del Sistema\n",
    "\n",
    "## Objetivo\n",
    "Analizar la estabilidad del sistema resultante de la discretización realizada en la Fase 2. Se busca establecer condiciones bajo las cuales la solución del precio converge o diverge con el tiempo, evaluando los valores propios del sistema linealizado."
   ]
  },
  {
   "cell_type": "code",
   "execution_count": null,
   "metadata": {},
   "outputs": [],
   "source": [
    "# Definición de parámetros\n",
    "import numpy as np\n",
    "import matplotlib.pyplot as plt\n",
    "\n",
    "sigma = 0.2   # Volatilidad\n",
    "r = 0.05      # Tasa de interés\n",
    "N = 50        # Número de nodos internos\n",
    "L = 1.0       # Longitud del dominio\n",
    "dx = L / N\n",
    "\n",
    "# Coeficientes de la matriz tridiagonal\n",
    "alpha = sigma**2 / (2 * dx**2)\n",
    "beta = (r - 0.5 * sigma**2) / (2 * dx)\n",
    "\n",
    "a = -2*alpha + r\n",
    "b = alpha + beta\n",
    "c = alpha - beta\n",
    "\n",
    "# Construcción de matriz A\n",
    "A = np.diag([a]*(N-1)) + np.diag([b]*(N-2), 1) + np.diag([c]*(N-2), -1)"
   ]
  },
  {
   "cell_type": "markdown",
   "metadata": {},
   "source": [
    "## Cálculo de valores propios y condición de estabilidad"
   ]
  },
  {
   "cell_type": "code",
   "execution_count": null,
   "metadata": {},
   "outputs": [],
   "source": [
    "# Cálculo de valores propios\n",
    "eigvals = np.linalg.eigvals(A)\n",
    "\n",
    "# Verificación de estabilidad\n",
    "estable = np.all(eigvals < 0)\n",
    "\n",
    "print(\"¿Sistema estable?\", estable)\n",
    "print(\"Máximo valor propio:\", np.max(eigvals).real)"
   ]
  },
  {
   "cell_type": "markdown",
   "metadata": {},
   "source": [
    "## Visualización del espectro"
   ]
  },
  {
   "cell_type": "code",
   "execution_count": null,
   "metadata": {},
   "outputs": [],
   "source": [
    "plt.figure(figsize=(8,4))\n",
    "plt.plot(sorted(eigvals.real), 'o-', label=\"Re(λ)\")\n",
    "plt.axhline(0, color='red', linestyle='--')\n",
    "plt.title(\"Valores propios del sistema\")\n",
    "plt.xlabel(\"Índice\")\n",
    "plt.ylabel(\"Valor propio (real)\")\n",
    "plt.grid(True)\n",
    "plt.legend()\n",
    "plt.show()"
   ]
  }
 ],
 "metadata": {
  "kernelspec": {
   "display_name": "Python 3",
   "language": "python",
   "name": "python3"
  },
  "language_info": {
   "name": "python",
   "version": ""
  }
 },
 "nbformat": 4,
 "nbformat_minor": 2
}
