# Fase 3: Análisis de Estabilidad del Sistema

## Objetivo

Analizar la estabilidad del sistema resultante de la discretización realizada en la Fase 2. Se busca establecer condiciones bajo las cuales la solución del precio converge o diverge con el tiempo, evaluando los valores propios del sistema linealizado.

## 1. Sistema Dinámico Discretizado

Recordando la Fase 2, a partir de la discretización espacial \( x = \ln(S) \) se obtuvo el sistema de ecuaciones diferenciales ordinarias:

$$
\dot{v}_i(t) = \frac{\sigma^2}{2} \cdot \frac{v_{i+1}(t) - 2v_i(t) + v_{i-1}(t)}{(\Delta x)^2} 
- \left(r - \frac{\sigma^2}{2}\right) \cdot \frac{v_{i+1}(t) - v_{i-1}(t)}{2\Delta x} + r v_i(t)
$$

que se puede escribir en forma matricial compacta como:

$$
\dot{\mathbf{v}}(t) = A \mathbf{v}(t) + b(t)
$$

donde:

- \( \mathbf{v}(t) \) es el vector de estados \( \left(v_1(t), \dots, v_{N-1}(t)\right) \),
- \( A \) es una matriz tridiagonal constante de tamaño \( (N-1)\times(N-1) \),
- \( b(t) \) incorpora las condiciones de frontera, actualizadas en cada paso temporal.

## 2. Estructura de la matriz \( A \)

Los elementos de la matriz tridiagonal \( A \) son constantes, definidos por los coeficientes:

$$
\alpha = \frac{1}{2} \cdot \frac{\sigma^2}{(\Delta x)^2}, \quad \beta = \frac{r - \frac{1}{2} \sigma^2}{2 \Delta x}
$$

Entonces, los valores de la matriz son:

$$
a = -2\alpha + r, \quad b = \alpha + \beta, \quad c = \alpha - \beta
$$

Y la estructura matricial es:

$$
A =
\begin{pmatrix}
a & b &        &        \\
c & a & b      &        \\
  & \ddots & \ddots & \ddots \\
  &        & c      & a
\end{pmatrix}
$$

## 3. Estudio de Estabilidad mediante Valores Propios

Dado que se tiene un sistema lineal autónomo, su estabilidad está determinada por los valores propios \( \lambda_k \) de la matriz \( A \). Una condición necesaria y suficiente para que el sistema sea estable es que:

$$
\lambda_k < 0 \quad \forall k
$$

Para matrices tridiagonales con estructura constante, los valores propios están dados por:

$$
\lambda_k = a + 2\sqrt{bc} \cos\left( \frac{k\pi}{N} \right), \quad k = 1, 2, \ldots, N-1
$$

Para garantizar estabilidad, se debe cumplir:

$$
a + 2\sqrt{bc} < 0
$$

Lo cual nos lleva a una condición práctica de estabilidad:

$$
r < \frac{\sigma^2}{(\Delta x)^2}
$$

## 4. Interpretación Física y Numérica

Esta desigualdad indica que la estabilidad del sistema depende de los parámetros del modelo y del tamaño del mallado. En particular:

- Un mayor valor de \( \sigma \) favorece la estabilidad.
- Un menor \( \Delta x \) (mayor resolución espacial) mejora la estabilidad.
- Un valor elevado de \( r \) puede llevar a la inestabilidad del sistema.

Además, esta condición es especialmente útil al aplicar métodos de integración explícitos en el tiempo, como Forward-Euler, ya que permite controlar la evolución temporal sin que la solución crezca indefinidamente.

## 5. Conclusión

El sistema dinámico resultante es estable si se cumple la condición:

$$
r < \frac{\sigma^2}{(\Delta x)^2}
$$

Bajo esta condición, todos los valores propios de la matriz \( A \) son reales y negativos, lo que implica que la solución del sistema converge con el tiempo. En caso contrario, el sistema puede divergir, dependiendo de los parámetros seleccionados y la resolución del mallado.
