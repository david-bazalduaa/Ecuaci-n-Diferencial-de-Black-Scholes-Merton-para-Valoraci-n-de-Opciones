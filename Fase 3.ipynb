{
 "cells": [
  {
   "cell_type": "markdown",
   "metadata": {},
   "source": [
    "# Fase 3: Análisis de Estabilidad del Sistema Discretizado\n",
    "\n",
    "## Matriz \\(A\\): Estructura y Coeficientes\n",
    "\n",
    "Definimos:\n",
    "\\[\\alpha = \\frac{\\sigma^2}{2(\\Delta x)^2}, \\quad \\beta = \\frac{r - \\tfrac12\\sigma^2}{2\\Delta x},\\]\n",
    "y los coeficientes diagonales y off-diagonales:\n",
    "\\[a = -2\\alpha + r, \\quad b = \\alpha + \\beta, \\quad c = \\alpha - \\beta.\\]\n",
    "La matriz tridiagonal es:\n",
    "\\[\n",
    "A = \\begin{pmatrix}\n",
    "a & b & 0 & & \\\\\n",
    "c & a & b & \\ddots & \\\\\n",
    "0 & c & a & \\ddots & 0 \\\\\n",
    "& \\ddots & \\ddots & \\ddots & b \\\\\n",
    "& & 0 & c & a\n",
    "\\end{pmatrix}.\n",
    "\\]\n",
    "\n",
    "## Cálculo de Autovalores\n",
    "\n",
    "Los autovalores son:\n",
    "\\[\\lambda_k = a + 2\\sqrt{bc}\\,\\cos\\Bigl(\\tfrac{k\\pi}{N}\\Bigr),\\quad k=1,\\dots,N-1.\\]\n",
    "\n",
    "## Condición de Estabilidad Exacta\n",
    "\n",
    "Para estabilidad se requiere \\(\\Re(\\lambda_k)<0\\). El caso más desfavorable es \\(\\cos=1\\):\n",
    "\\[a + 2\\sqrt{bc} < 0 \\quad\\Longrightarrow\\quad r - \\frac{\\sigma^2}{(\\Delta x)^2} + 2\\sqrt{\\alpha^2 - \\beta^2} < 0.\\]\n",
    "\n",
    "## Aproximación Unificada\n",
    "\n",
    "Si \\(|\\beta|\\ll\\alpha\\), entonces \\(\\sqrt{\\alpha^2-\\beta^2} \\approx \\alpha\\) y se obtiene la condición aproximada:\n",
    "\\[r < \\frac{\\sigma^2}{(\\Delta x)^2}.\\]\n",
    "\n",
    "## Número de Péclet Financiero\n",
    "\n",
    "Definimos:\n",
    "\\[\\Pe = \\frac{|\\beta|}{\\alpha} = \\frac{|r - \\tfrac12\\sigma^2|\\,\\Delta x}{\\sigma^2}.\\]\n",
    "Para evitar oscilaciones numéricas se requiere \\(\\Pe \\le 2\\), es decir:\n",
    "\\[\\Delta x \\le \\frac{2\\sigma^2}{|r - \\tfrac12\\sigma^2|}.\\]\n",
    "\n",
    "## Interpretación Financiera\n",
    "\n",
    "- **Convergencia (estable):** mallas finas (\\(\\Delta x\\sim0.05\\)–0.1).  \n",
    "  Ej.: con \\(r=0.05\\), \\(\\sigma=0.2\\) se necesita \\(\\Delta x<0.089\\).\n",
    "- **Divergencia (inestable):** mallas gruesas (\\(\\Delta x>0.1\\)) o \\(r\\) alto (\\(>0.15\\)) provocan oscilaciones no físicas.\n",
    "\n",
    "## Conclusión\n",
    "\n",
    "La estabilidad se asegura mediante las desigualdades:\n",
    "\\[r - \\frac{\\sigma^2}{(\\Delta x)^2} + 2\\sqrt{\\alpha^2-\\beta^2} < 0, \\quad \\Delta x \\le \\frac{2\\sigma^2}{|r - \\tfrac12\\sigma^2|}.\\]"
   ]
  }
 ],
 "metadata": {
  "kernelspec": {
   "display_name": "Python 3",
   "language": "python",
   "name": "python3"
  },
  "language_info": {
   "name": "python",
   "version": "3.x"
  }
 },
 "nbformat": 4,
 "nbformat_minor": 5
}