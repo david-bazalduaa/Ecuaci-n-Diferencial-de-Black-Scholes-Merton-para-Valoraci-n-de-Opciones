{
 "cells": [
  {
   "cell_type": "markdown",
   "metadata": {},
   "source": [
    "# Fase 3: Análisis de Estabilidad del Sistema"
   ]
  },
  {
   "cell_type": "markdown",
   "metadata": {},
   "source": [
    "## Objetivo\n",
    "\n",
    "Analizar la estabilidad del sistema resultante de la discretización realizada en la Fase 2. Se busca establecer condiciones bajo las cuales la solución del precio converge o diverge con el tiempo, evaluando los valores propios del sistema linealizado."
   ]
  },
  {
   "cell_type": "markdown",
   "metadata": {},
   "source": [
    "## 1. Sistema Dinámico Discretizado\n",
    "\n",
    "Recordando la Fase 2, a partir de la discretización espacial $x = \\ln(S)$ se obtuvo el sistema de ecuaciones diferenciales ordinarias:\n",
    "\n",
    "$$\n",
    "\\dot{v}_i(t) = \\frac{\\sigma^2}{2} \\cdot \\frac{v_{i+1}(t) - 2v_i(t) + v_{i-1}(t)}{(\\Delta x)^2} \n",
    "- \\left(r - \\frac{\\sigma^2}{2}\\right) \\cdot \\frac{v_{i+1}(t) - v_{i-1}(t)}{2\\Delta x} + r v_i(t)\n",
    "$$\n",
    "\n",
    "que se puede escribir en forma matricial compacta como:\n",
    "\n",
    "$$\n",
    "\\dot{\\mathbf{v}}(t) = A \\mathbf{v}(t) + b(t)\n",
    "$$\n",
    "\n",
    "donde:\n",
    "\n",
    "- $\\mathbf{v}(t)$ es el vector de estados $\\left(v_1(t), \\dots, v_{N-1}(t)\\right)$,\n",
    "- $A$ es una matriz tridiagonal constante de tamaño $(N-1)\\times(N-1)$,\n",
    "- $b(t)$ incorpora las condiciones de frontera, actualizadas en cada paso temporal."
   ]
  },
  {
   "cell_type": "markdown",
   "metadata": {},
   "source": [
    "## 2. Estructura de la matriz $A$\n",
    "\n",
    "Los elementos de la matriz tridiagonal $A$ son constantes, definidos por los coeficientes:\n",
    "\n",
    "$$\n",
    "\\alpha = \\frac{1}{2} \\cdot \\frac{\\sigma^2}{(\\Delta x)^2}, \\quad \\beta = \\frac{r - \\frac{1}{2} \\sigma^2}{2 \\Delta x}\n",
    "$$\n",
    "\n",
    "Entonces, los valores de la matriz son:\n",
    "\n",
    "$$\n",
    "a = -2\\alpha + r, \\quad b = \\alpha + \\beta, \\quad c = \\alpha - \\beta\n",
    "$$\n",
    "\n",
    "Y la estructura matricial es:\n",
    "\n",
    "$$\n",
    "A =\n",
    "\\begin{pmatrix}\n",
    "a & b &        &        \\\\\n",
    "c & a & b      &        \\\\\n",
    "  & \\ddots & \\ddots & \\ddots \\\\\n",
    "  &        & c      & a\n",
    "\\end{pmatrix}\n",
    "$$"
   ]
  },
  {
   "cell_type": "markdown",
   "metadata": {},
   "source": [
    "## 3. Estudio de Estabilidad mediante Valores Propios\n",
    "\n",
    "Dado que se tiene un sistema lineal autónomo, su estabilidad está determinada por los valores propios $\\lambda_k$ de la matriz $A$. Una condición necesaria y suficiente para que el sistema sea estable es que:\n",
    "\n",
    "$$\n",
    "\\lambda_k < 0 \\quad \\forall k\n",
    "$$\n",
    "\n",
    "Para matrices tridiagonales con estructura constante, los valores propios están dados por:\n",
    "\n",
    "$$\n",
    "\\lambda_k = a + 2\\sqrt{bc} \\cos\\left( \\frac{k\\pi}{N} \\right), \\quad k = 1, 2, \\ldots, N-1\n",
    "$$\n",
    "\n",
    "Para garantizar estabilidad, se debe cumplir:\n",
    "\n",
    "$$\n",
    "a + 2\\sqrt{bc} < 0\n",
    "$$\n",
    "\n",
    "Lo cual nos lleva a una condición práctica de estabilidad:\n",
    "\n",
    "$$\n",
    "r < \\frac{\\sigma^2}{(\\Delta x)^2}\n",
    "$$"
   ]
  },
  {
   "cell_type": "markdown",
   "metadata": {},
   "source": [
    "## 4. Interpretación Física y Numérica\n",
    "\n",
    "Esta desigualdad indica que la estabilidad del sistema depende de los parámetros del modelo y del tamaño del mallado. En particular:\n",
    "\n",
    "- Un mayor valor de $\\sigma$ favorece la estabilidad.\n",
    "- Un menor $\\Delta x$ (mayor resolución espacial) mejora la estabilidad.\n",
    "- Un valor elevado de $r$ puede llevar a la inestabilidad del sistema.\n",
    "\n",
    "Además, esta condición es especialmente útil al aplicar métodos de integración explícitos en el tiempo, como Forward-Euler, ya que permite controlar la evolución temporal sin que la solución crezca indefinidamente."
   ]
  },
  {
   "cell_type": "markdown",
   "metadata": {},
   "source": [
    "## 5. Conclusión\n",
    "\n",
    "El sistema dinámico resultante es estable si se cumple la condición:\n",
    "\n",
    "$$\n",
    "r < \\frac{\\sigma^2}{(\\Delta x)^2}\n",
    "$$\n",
    "\n",
    "Bajo esta condición, todos los valores propios de la matriz $A$ son reales y negativos, lo que implica que la solución del sistema converge con el tiempo. En caso contrario, el sistema puede divergir, dependiendo de los parámetros seleccionados y la resolución del mallado."
   ]
  }
 ],
 "metadata": {
  "kernelspec": {
   "display_name": "Python 3",
   "language": "python",
   "name": "python3"
  },
  "language_info": {
   "name": "python",
   "version": ""
  }
 },
 "nbformat": 4,
 "nbformat_minor": 2
}
