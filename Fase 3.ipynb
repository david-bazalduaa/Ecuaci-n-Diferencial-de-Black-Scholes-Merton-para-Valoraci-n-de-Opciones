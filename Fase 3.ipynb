{
 "cells": [
  {
   "cell_type": "markdown",
   "metadata": {},
   "source": [
    "# Fase 3: Análisis de Estabilidad del Sistema"
   ]
  },
  {
   "cell_type": "markdown",
   "metadata": {},
   "source": [
    "## Objetivo\n",
    "\n",
    "Analizar la estabilidad del sistema resultante de la discretización realizada en la Fase 2, considerando tanto la estabilidad en tiempo continuo (valores propios) como en tiempo discreto (estabilidad Schur)."
   ]
  },
  {
   "cell_type": "markdown",
   "metadata": {},
   "source": [
    "## 1. Sistema Dinámico Discretizado\n",
    "\n",
    "Recordando la Fase 2, a partir de la discretización espacial $x = \\ln(S)$ se obtuvo el sistema de ecuaciones diferenciales ordinarias:\n",
    "\n",
    "$$\n",
    "\\dot{v}_i(t) = \\frac{\\sigma^2}{2} \\cdot \\frac{v_{i+1}(t) - 2v_i(t) + v_{i-1}(t)}{(\\Delta x)^2} \n",
    "+ \\left(r - \\frac{\\sigma^2}{2}\\right) \\cdot \\frac{v_{i+1}(t) - v_{i-1}(t)}{2\\Delta x} - r v_i(t)\n",
    "$$"
   ]
  },
  {
   "cell_type": "markdown",
   "metadata": {},
   "source": [
    "## 2. Estructura de la matriz $A$\n",
    "\n",
    "Los elementos de la matriz tridiagonal $A$ son constantes, definidos por los coeficientes:\n",
    "\n",
    "$$\n",
    "\\alpha = \\frac{1}{2} \\cdot \\frac{\\sigma^2}{(\\Delta x)^2}, \\quad \\beta = \\frac{r - \\frac{1}{2} \\sigma^2}{2 \\Delta x}\n",
    "$$\n",
    "\n",
    "Entonces, los valores de la matriz son:\n",
    "\n",
    "$$\n",
    "a = -2\\alpha + r, \\quad b = \\alpha + \\beta, \\quad c = \\alpha - \\beta\n",
    "$$\n",
    "\n",
    "Y la estructura matricial es:\n",
    "\n",
    "$$\n",
    "A =\n",
    "\\begin{pmatrix}\n",
    "a & b &        &        \\\\\n",
    "c & a & b      &        \\\\\n",
    "  & \\ddots & \\ddots & \\ddots \\\\\n",
    "  &        & c      & a\n",
    "\\end{pmatrix}\n",
    "$$"
   ]
  },
  {
   "cell_type": "markdown",
   "metadata": {},
   "source": [
    "## 3. Estabilidad en Tiempo Continuo\n",
    "\n",
    "Para el sistema continuo $\\dot{v} = Av$, la estabilidad está determinada por los valores propios $\\lambda_k$ de $A$:\n",
    "\n",
    "$$\n",
    "\\lambda_k = a + 2\\sqrt{bc} \\cos\\left( \\frac{k\\pi}{N} \\right), \\quad k = 1, 2, \\ldots, N-1\n",
    "$$\n",
    "\n",
    "**Condición de estabilidad:**\n",
    "$$\n",
    "\\text{Re}(\\lambda_k) < 0 \\quad \\forall k \\implies a + 2\\sqrt{|bc|} < 0\n",
    "$$\n",
    "\n",
    "Lo que lleva a la condición práctica:\n",
    "$$\n",
    "r < \\frac{\\sigma^2}{(\\Delta x)^2}\n",
    "$$"
   ]
  },
  {
   "cell_type": "markdown",
   "metadata": {},
   "source": [
    "## 4. Estabilidad Schur en Tiempo Discreto\n",
    "\n",
    "Al discretizar temporalmente con el método $\\theta$ (paso $\\Delta t$), el sistema se convierte en:\n",
    "\n",
    "$$\n",
    "v^{n+1} = B v^n, \\quad B = (I - \\theta \\Delta t A)^{-1}(I + (1-\\theta)\\Delta t A)\n",
    "$$\n",
    "\n",
    "**Estabilidad Schur:** Requiere que los valores propios $\\mu_k$ de $B$ satisfagan $|\\mu_k| \\leq 1$."
   ]
  }
 ],
 "metadata": {
  "kernelspec": {
   "display_name": "Python 3",
   "language": "python",
   "name": "python3"
  },
  "language_info": {
   "name": "python",
   "version": ""
  }
 },
 "nbformat": 4,
 "nbformat_minor": 2
}
