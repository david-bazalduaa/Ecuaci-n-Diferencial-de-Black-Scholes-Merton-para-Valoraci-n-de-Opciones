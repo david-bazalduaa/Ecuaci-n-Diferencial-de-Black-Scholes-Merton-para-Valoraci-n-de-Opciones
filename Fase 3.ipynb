{
 "cells": [
  {
   "cell_type": "markdown",
   "metadata": {},
   "source": [
    "# Fase 3: Análisis de Estabilidad del Sistema"
   ]
  },
  {
   "cell_type": "markdown",
   "metadata": {},
   "source": [
    "## Objetivo\n",
    "\n",
    "Analizar la estabilidad del sistema resultante de la discretización realizada en la Fase 2, considerando tanto la estabilidad en tiempo continuo (valores propios) como en tiempo discreto (estabilidad Schur)."
   ]
  },
  {
   "cell_type": "markdown",
   "metadata": {},
   "source": [
    "## 1. Sistema Dinámico Discretizado\n",
    "\n",
    "Recordando la Fase 2, a partir de la discretización espacial $x = \\ln(S)$ se obtuvo el sistema de ecuaciones diferenciales ordinarias:\n",
    "\n",
    "$$\n",
    "\\dot{v}_i(t) = \\frac{\\sigma^2}{2} \\cdot \\frac{v_{i+1}(t) - 2v_i(t) + v_{i-1}(t)}{(\\Delta x)^2} \n",
    "+ \\left(r - \\frac{\\\sigma^2}{2}\\right) \\cdot \\frac{v_{i+1}(t) - v_{i-1}(t)}{2\\Delta x} - r v_i(t)\n",
    "$$"
   ]
  },
  {
   "cell_type": "markdown",
   "metadata": {},
   "source": [
    "## 2. Estructura de la matriz $A$\n",
    "\n",
    "Los elementos de la matriz tridiagonal $A$ son constantes, definidos por los coeficientes:\n",
    "\n",
    "$$\n",
    "\\alpha = \\frac{1}{2} \\cdot \\frac{\\sigma^2}{(\\Delta x)^2}, \\quad \\beta = \\frac{r - \\frac{1}{2} \\sigma^2}{2 \\Delta x}\n",
    "$$\n",
    "\n",
    "Entonces, los valores de la matriz son:\n",
    "\n",
    "$$\n",
    "a = -2\\alpha + r, \\quad b = \\alpha + \\beta, \\quad c = \\alpha - \\beta\n",
    "$$\n",
    "\n",
    "Y la estructura matricial es:\n",
    "\n",
    "$$\n",
    "A =\n",
    "\\begin{pmatrix}\n",
    "a & b &        &        \\\\\n",
    "c & a & b      &        \\\\\n",
    "  & \\ddots & \\ddots & \\ddots \\\\\n",
    "  &        & c      & a\n",
    "\\end{pmatrix}\n",
    "$$"
   ]
  },
  {
   "cell_type": "markdown",
   "metadata": {},
   "source": [
    "## 3. Estabilidad en Tiempo Continuo\n",
    "\n",
    "Para el sistema continuo $\\dot{v} = Av$, la estabilidad está determinada por los valores propios $\\lambda_k$ de $A$:\n",
    "\n",
    "$$\n",
    "\\lambda_k = a + 2\\sqrt{bc} \\cos\\left( \\frac{k\\pi}{N} \\right), \\quad k = 1, 2, \\ldots, N-1\n",
    "$$\n",
    "\n",
    "**Condición de estabilidad:**\n",
    "$$\n",
    "\\text{Re}(\\lambda_k) < 0 \\quad \\forall k \\implies a + 2\\sqrt{|bc|} < 0\n",
    "$$\n",
    "\n",
    "Lo que lleva a la condición práctica:\n",
    "$$\n",
    "r < \\frac{\\sigma^2}{(\\Delta x)^2}\n",
    "$$"
   ]
  },
  {
   "cell_type": "markdown",
   "metadata": {},
   "source": [
    "\\subsection*{4. Estabilidad en Tiempo Discreto}\n",
    "\n",
    "A partir del sistema lineal homogéneo discretizado espacialmente en la Fase 2:\n",
    "\n",
    "$$\n",
    "\\dot{v}(t) = A v(t)\n",
    "$$\n",
    "\n",
    "se implementa ahora una discretización temporal utilizando un esquema $\\theta$-método, con paso de tiempo $\\Delta t$, lo cual da lugar al sistema en diferencias:\n",
    "\n",
    "$$\n",
    "v^{n+1} = B v^n, \\quad B = (I - \\theta \\Delta t A)^{-1}(I + (1 - \\theta) \\Delta t A)\n",
    "$$\n",
    "\n",
    "donde la matriz $B$ representa el operador de evolución temporal. Esta forma permite analizar la estabilidad del sistema bajo el criterio de Schur, que exige:\n",
    "\n",
    "$$\n",
    "|\\mu_k| \\leq 1 \\quad \\text{para todo valor propio } \\mu_k \\text{ de } B\n",
    "$$\n",
    "\n",
    "Se sabe que los valores propios de $B$ están relacionados con los de $A$, denotados $\\lambda_k$, mediante la transformación racional:\n",
    "\n",
    "$$\n",
    "\\mu_k = \\frac{1 + (1 - \\theta)\\Delta t \\lambda_k}{1 - \\theta \\Delta t \\lambda_k}\n",
    "$$\n",
    "\n",
    "Para que se cumpla la condición de estabilidad $ |\\mu_k| \\leq 1 $, se requiere que:\n",
    "\n",
    "$$\n",
    "\\lambda_k \\leq -\\frac{2}{\\Delta t}\n",
    "$$\n",
    "\n",
    "Esta condición asegura que el denominador de la expresión de $\\mu_k$ no se anule y que el módulo del cociente sea menor o igual a uno.\n",
    "\n",
    "Recordando que los valores propios de $A$ están dados por:\n",
    "\n",
    "$$\n",
    "\\lambda_k = a + 2\\sqrt{bc} \\cos\\left( \\frac{k\\pi}{N} \\right)\n",
    "$$\n",
    "\n",
    "y que el valor máximo de $\\lambda_k$ ocurre cuando $\\cos\\left( \\frac{k\\pi}{N} \\right) = 1$, se obtiene la siguiente desigualdad que deben satisfacer los coeficientes $a$, $b$ y $c$ para garantizar la estabilidad temporal:\n",
    "\n",
    "$$\n",
    "a + 2\\sqrt{bc} \\leq -\\frac{2}{\\Delta t}\n",
    "$$\n",
    "\n",
    "Esta expresión impone una restricción adicional al diseño del mallado espacial y del paso de tiempo, ya que $a$, $b$ y $c$ dependen de los parámetros físicos del sistema ($r, \\sigma$) y del tamaño del paso espacial $\\Delta x$."
   ]
  }
 ],
 "metadata": {
  "kernelspec": {
   "display_name": "Python 3",
   "language": "python",
   "name": "python3"
  },
  "language_info": {
   "name": "python",
   "version": ""
  }
 },
 "nbformat": 4,
 "nbformat_minor": 2
}
