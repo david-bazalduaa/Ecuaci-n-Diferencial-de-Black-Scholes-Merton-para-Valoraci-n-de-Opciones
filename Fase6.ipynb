{
 "cells": [
  {
   "cell_type": "markdown",
   "id": "fa953b20",
   "metadata": {},
   "source": [
    "# Fase 6: Resolución numérica de la Ecuación diferencial de Black-Scholes-Merton\n",
    "\n",
    "Implementar un esquema de diferencias finitas implícitas para resolver la ecuación\n",
    "diferencial de Black-Scholes-Merton, en el caso de una PUT europea y una opción binaria."
   ]
  },
  {
   "cell_type": "code",
   "execution_count": 39,
   "id": "5f9470f5",
   "metadata": {},
   "outputs": [],
   "source": [
    "#Importo mis librerias\n",
    "import numpy as np\n",
    "import matplotlib.pyplot as plt\n",
    "from scipy.linalg import solve_banded\n",
    "from scipy.sparse import diags\n",
    "import Funciones"
   ]
  },
  {
   "cell_type": "markdown",
   "id": "d61ae2b2",
   "metadata": {},
   "source": [
    "### Parámetros iniciales"
   ]
  },
  {
   "cell_type": "code",
   "execution_count": 40,
   "id": "8091b8db",
   "metadata": {},
   "outputs": [],
   "source": [
    "# Defino los parámetros iniciales\n",
    "S0 = 112      # Precio inicial del activo\n",
    "K = 115       # Precio de ejercicio\n",
    "r = 0.08      # Tasa libre de riesgo\n",
    "sigma = 0.18  # Volatilidad\n",
    "T = 1         # Tiempo a vencimiento (en años)"
   ]
  },
  {
   "cell_type": "markdown",
   "id": "9c4a0253",
   "metadata": {},
   "source": [
    "## Discretización del tiempo y riqueza\n",
    "\n",
    "Definimos los parámetros de la malla y posteriormente generamos la malla de tiempo y riqueza.\n",
    "\n",
    "\\begin{equation*}\n",
    "\\Delta t = \\frac{T}{N}, \\quad \\Delta S = \\frac{S_{max}}{M}\n",
    "\\end{equation*}"
   ]
  },
  {
   "cell_type": "code",
   "execution_count": 41,
   "id": "3ee92b06",
   "metadata": {},
   "outputs": [],
   "source": [
    "#Parámetros de la malla\n",
    "S_max= 2*K  # Precio máximo del activo\n",
    "M= 100  # Número de puntos en la malla de precios\n",
    "N = 100  # Número de puntos en la malla de tiempo\n",
    "dS=S_max/M  # Tamaño del paso en la malla de precios\n",
    "dT = T/N  # Tamaño del paso en la malla de tiempo\n",
    "\n",
    "#Vectores de precios y tiempos\n",
    "S = np.linspace(0, S_max, M+1)  # Vector de precios\n",
    "t = np.linspace(0, T, N+1)  # Vector de tiempos"
   ]
  },
  {
   "cell_type": "markdown",
   "id": "124bda2a",
   "metadata": {},
   "source": [
    "## Implementar condiciones de frontera apropiadas\n",
    "\n",
    "Generamos la malla de tiempo y riqueza, y luego definimos la condición de frontera al vencimiento de la opción PUT europea que es:\n",
    "\\begin{equation*}\n",
    "V(S, T) = \\max(K - S, 0)   \n",
    "\\end{equation*}\n",
    "Y para la opción binaria:\n",
    "\\begin{equation*}\n",
    "V(S, T) = \\begin{cases}\n",
    "1 & \\text{si } S < K \\\\\n",
    "0 & \\text{si } S \\geq K\n",
    "\\end{cases}\n",
    "\\end{equation*}\n",
    "\n",
    "Además definimos las condiciones de frontera para $S = 0$ y $S = S_{max}$:\n",
    "\\begin{equation*}\n",
    "V(0, t) = K e^{-r(T-t)}, \\quad V(S_{max}, t) = 0\n",
    "\\end{equation*}"
   ]
  },
  {
   "cell_type": "code",
   "execution_count": 42,
   "id": "190ad99d",
   "metadata": {},
   "outputs": [],
   "source": [
    "V = np.zeros((M+1, N+1))  # Malla de precios y tiempos\n",
    "V[:, -1] = np.maximum(K-S, 0)  # Condición de frontera al vencimiento\n",
    "#Condiciones de frontera para cada t\n",
    "V[0, :] = K * np.exp(-r * (T - np.linspace(0, T, N + 1)))   # V(0, t)\n",
    "V[-1, :] = 0                                                # V(S_max, t)"
   ]
  },
  {
   "cell_type": "markdown",
   "id": "0f8cc1ff",
   "metadata": {},
   "source": [
    "## Solucionar la ecuación diferencial parcial\n",
    "\n",
    "Implementamos el esquema de diferencias finitas implícitas para resolver la ecuación diferencial de Black-Scholes-Merton. Definimos los coeficientes del sistema de la siguiente manera:\n",
    "\\begin{equation*}\n",
    "\\alpha= \\Delta t \\left( \\frac{a}{\\Delta S^2} - \\frac{b}{2 \\Delta S} \\right), \\quad\n",
    "\\beta = 1 - \\Delta t \\left( \\frac{a}{\\Delta S^2} + c \\right), \\quad\n",
    "\\gamma = \\Delta t \\left( \\frac{a}{\\Delta S^2} + \\frac{b}{2 \\Delta S} \\right)\n",
    "\\end{equation*}\n",
    "\n",
    "Donde $a = \\frac{1}{2} \\sigma^2 S^2$, $b = r S$, y $c = r$.\n",
    "\n",
    "Posterior a esto, construimos la matriz del sistema y resolvemos el sistema lineal en cada paso de tiempo hacia atrás."
   ]
  },
  {
   "cell_type": "code",
   "execution_count": 43,
   "id": "e7eed2fe",
   "metadata": {},
   "outputs": [],
   "source": [
    "#Definimos los coeficientes del sistema lineal\n",
    "a=0.5* sigma**2 * S[1:-1]**2\n",
    "b=r*S[1:-1]\n",
    "c=r\n",
    "\n",
    "alpha=dT*(a/dS**2 - b/(2*dS))\n",
    "beta=1-dT*(2*a/dS**2 + c)\n",
    "gamma=dT*(a/dS**2 + b/(2*dS))"
   ]
  },
  {
   "cell_type": "code",
   "execution_count": 44,
   "id": "3cb4f215",
   "metadata": {},
   "outputs": [],
   "source": [
    "#Matriz tridiagonal\n",
    "A = diags([alpha[1:] ,beta ,gamma[:-1]],offsets=[-1,0,1],format='csr')"
   ]
  },
  {
   "cell_type": "code",
   "execution_count": null,
   "id": "8606edd9",
   "metadata": {},
   "outputs": [],
   "source": [
    "#Calculamos la solución hacia atrás en el tiempo\n",
    "put_sol, _= Funciones.sol_put(M, V, alpha,K, gamma, A, S0, S,N)"
   ]
  },
  {
   "cell_type": "code",
   "execution_count": null,
   "id": "bff84aa3",
   "metadata": {},
   "outputs": [],
   "source": [
    "bin_sol,_ = Funciones.sol_put(M, V, alpha,K, gamma, A, S0, S,N, tipo='binario')"
   ]
  },
  {
   "cell_type": "markdown",
   "id": "df9fe859",
   "metadata": {},
   "source": [
    "## Calcular el error\n",
    "\n",
    "Calcular el error en términos del tamaño de las subdiviciones de $\\Delta t$ y $\\Delta S$ de la\n",
    "discretización."
   ]
  },
  {
   "cell_type": "code",
   "execution_count": 47,
   "id": "77e21115",
   "metadata": {},
   "outputs": [
    {
     "ename": "AttributeError",
     "evalue": "module 'Funciones' has no attribute 'calcular_errores'",
     "output_type": "error",
     "traceback": [
      "\u001b[1;31m---------------------------------------------------------------------------\u001b[0m",
      "\u001b[1;31mAttributeError\u001b[0m                            Traceback (most recent call last)",
      "Cell \u001b[1;32mIn[47], line 2\u001b[0m\n\u001b[0;32m      1\u001b[0m valoresMN\u001b[38;5;241m=\u001b[39m[(\u001b[38;5;241m10\u001b[39m,\u001b[38;5;241m10\u001b[39m), (\u001b[38;5;241m20\u001b[39m,\u001b[38;5;241m20\u001b[39m), (\u001b[38;5;241m50\u001b[39m,\u001b[38;5;241m50\u001b[39m), (\u001b[38;5;241m100\u001b[39m,\u001b[38;5;241m100\u001b[39m), (\u001b[38;5;241m200\u001b[39m,\u001b[38;5;241m200\u001b[39m), (\u001b[38;5;241m500\u001b[39m,\u001b[38;5;241m500\u001b[39m), (\u001b[38;5;241m1000\u001b[39m,\u001b[38;5;241m1000\u001b[39m)]\n\u001b[1;32m----> 2\u001b[0m errores_put \u001b[38;5;241m=\u001b[39m \u001b[43mFunciones\u001b[49m\u001b[38;5;241;43m.\u001b[39;49m\u001b[43mcalcular_errores\u001b[49m(S0, K, r, sigma, T, valoresMN,V,alpha,gamma, A, S, \u001b[38;5;124m'\u001b[39m\u001b[38;5;124mput\u001b[39m\u001b[38;5;124m'\u001b[39m)\n\u001b[0;32m      3\u001b[0m errores_binario \u001b[38;5;241m=\u001b[39m Funciones\u001b[38;5;241m.\u001b[39mcalcular_errores(S0, K, r, sigma, T, valoresMN,V,alpha,gamma, A, S, \u001b[38;5;124m'\u001b[39m\u001b[38;5;124mbinario\u001b[39m\u001b[38;5;124m'\u001b[39m)\n\u001b[0;32m      5\u001b[0m \u001b[38;5;28;01mfor\u001b[39;00m M, N, num, ref, err \u001b[38;5;129;01min\u001b[39;00m errores_put:\n",
      "\u001b[1;31mAttributeError\u001b[0m: module 'Funciones' has no attribute 'calcular_errores'"
     ]
    }
   ],
   "source": [
    "valoresMN=[(10,10), (20,20), (50,50), (100,100), (200,200), (500,500), (1000,1000)]\n",
    "errores_put = Funciones.calcular_errores(S0, K, r, sigma, T, valoresMN,V,alpha,gamma, A, S, 'put')\n",
    "errores_binario = Funciones.calcular_errores(S0, K, r, sigma, T, valoresMN,V,alpha,gamma, A, S, 'binario')\n",
    "\n",
    "for M, N, num, ref, err in errores_put:\n",
    "    print(f\"M={M}, N={N} -> Valor numérico: {num:.4f}, Valor exacto: {ref:.4f}, Error: {err:.4e}\")"
   ]
  }
 ],
 "metadata": {
  "kernelspec": {
   "display_name": "Python 3",
   "language": "python",
   "name": "python3"
  },
  "language_info": {
   "codemirror_mode": {
    "name": "ipython",
    "version": 3
   },
   "file_extension": ".py",
   "mimetype": "text/x-python",
   "name": "python",
   "nbconvert_exporter": "python",
   "pygments_lexer": "ipython3",
   "version": "3.12.4"
  }
 },
 "nbformat": 4,
 "nbformat_minor": 5
}
