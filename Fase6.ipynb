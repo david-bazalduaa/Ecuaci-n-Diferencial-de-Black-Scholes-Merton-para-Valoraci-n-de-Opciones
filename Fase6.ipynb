{
 "cells": [
  {
   "cell_type": "markdown",
   "id": "fa953b20",
   "metadata": {},
   "source": [
    "# Fase 6: Resolución numérica de la Ecuación diferencial de Black-Scholes-Merton\n",
    "\n",
    "Implementar un esquema de diferencias finitas implícitas para resolver la ecuación\n",
    "diferencial de Black-Scholes-Merton, en el caso de una PUT europea y una opción binaria."
   ]
  },
  {
   "cell_type": "code",
   "execution_count": 1,
   "id": "5f9470f5",
   "metadata": {},
   "outputs": [],
   "source": [
    "#Importo mis librerias\n",
    "import numpy as np\n",
    "import matplotlib.pyplot as plt\n",
    "import Funciones"
   ]
  },
  {
   "cell_type": "markdown",
   "id": "d61ae2b2",
   "metadata": {},
   "source": [
    "### Parámetros iniciales"
   ]
  },
  {
   "cell_type": "code",
   "execution_count": 2,
   "id": "8091b8db",
   "metadata": {},
   "outputs": [],
   "source": [
    "# Defino los parámetros iniciales\n",
    "S0 = 112      # Precio inicial del activo\n",
    "K = 115       # Precio de ejercicio\n",
    "r = 0.08      # Tasa libre de riesgo\n",
    "sigma = 0.18  # Volatilidad\n",
    "T = 1         # Tiempo a vencimiento (en años)"
   ]
  },
  {
   "cell_type": "markdown",
   "id": "9c4a0253",
   "metadata": {},
   "source": [
    "## Discretización del tiempo y riqueza\n",
    "\n",
    "Definimos los parámetros de la malla y posteriormente generamos la malla de tiempo y riqueza.\n",
    "\n",
    "\\begin{equation*}\n",
    "\\Delta t = \\frac{T}{N}, \\quad \\Delta S = \\frac{S_{max}}{M}\n",
    "\\end{equation*}"
   ]
  },
  {
   "cell_type": "code",
   "execution_count": 3,
   "id": "3ee92b06",
   "metadata": {},
   "outputs": [],
   "source": [
    "#Parámetros de la malla\n",
    "S_max= 2*K  # Precio máximo del activo\n",
    "M= 100  # Número de puntos en la malla de precios\n",
    "N = 100  # Número de puntos en la malla de tiempo\n",
    "dS=S_max/M  # Tamaño del paso en la malla de precios\n",
    "dT = T/N  # Tamaño del paso en la malla de tiempo"
   ]
  },
  {
   "cell_type": "markdown",
   "id": "124bda2a",
   "metadata": {},
   "source": [
    "## Implementar condiciones de frontera apropiadas\n",
    "\n",
    "Generamos la malla de tiempo y riqueza, y luego definimos la condición de frontera al vencimiento de la opción PUT europea que es:\n",
    "\\begin{equation*}\n",
    "V(S, T) = \\max(K - S, 0)   \n",
    "\\end{equation*}\n",
    "Y para la opción binaria:\n",
    "\\begin{equation*}\n",
    "V(S, T) = \\begin{cases}\n",
    "1 & \\text{si } S < K \\\\\n",
    "0 & \\text{si } S \\geq K\n",
    "\\end{cases}\n",
    "\\end{equation*}\n",
    "\n",
    "Además definimos las condiciones de frontera para $S = 0$ y $S = S_{max}$:\n",
    "\\begin{equation*}\n",
    "V(0, t) = K e^{-r(T-t)}, \\quad V(S_{max}, t) = 0\n",
    "\\end{equation*}"
   ]
  },
  {
   "cell_type": "code",
   "execution_count": 4,
   "id": "190ad99d",
   "metadata": {},
   "outputs": [],
   "source": [
    "#Genramos las mallas para PUT y binario\n",
    "V_put = Funciones.inicializar_malla(M, K,S_max, tipo='put')\n",
    "V_binario = Funciones.inicializar_malla(M, K,S_max, tipo='binario')\n",
    "\n",
    "#Añadimos las condiciones de frontera\n",
    "V_put[0]=K*np.exp(-r*T)  # Condición de frontera inferior para PUT\n",
    "V_put[-1] = 0  # Condición de frontera superior para PUT\n",
    "\n",
    "V_binario[0]=np.exp(-r*T)  # Condición de frontera inferior para binario\n",
    "V_binario[-1] = 0  # Condición de frontera superior para binario"
   ]
  },
  {
   "cell_type": "markdown",
   "id": "0f8cc1ff",
   "metadata": {},
   "source": [
    "## Solucionar la ecuación diferencial parcial\n",
    "\n",
    "Implementamos el esquema de diferencias finitas implícitas para resolver la ecuación diferencial de Black-Scholes-Merton. Definimos los coeficientes del sistema de la siguiente manera:\n",
    "\\begin{equation*}\n",
    "\\alpha= \\Delta t \\left( \\frac{a}{\\Delta S^2} - \\frac{b}{2 \\Delta S} \\right), \\quad\n",
    "\\beta = 1 - \\Delta t \\left( \\frac{a}{\\Delta S^2} + c \\right), \\quad\n",
    "\\gamma = \\Delta t \\left( \\frac{a}{\\Delta S^2} + \\frac{b}{2 \\Delta S} \\right)\n",
    "\\end{equation*}\n",
    "\n",
    "Donde $a = \\frac{1}{2} \\sigma^2 S^2$, $b = r S$, y $c = r$.\n",
    "\n",
    "Posterior a esto, construimos la matriz del sistema y resolvemos el sistema lineal en cada paso de tiempo hacia atrás."
   ]
  },
  {
   "cell_type": "code",
   "execution_count": 5,
   "id": "3cb4f215",
   "metadata": {},
   "outputs": [],
   "source": [
    "#Matriz tridiagonal\n",
    "A = Funciones.crear_matriz_tridiagonal(M, dS, dT, sigma, r)\n",
    "\n",
    "#Calculamos las soluciones\n",
    "put_sol= Funciones.solucion_implicita(dT,A,V_put,K,r,dS,S0,T,N,tipo='put')\n",
    "bin_sol= Funciones.solucion_implicita(dT,A,V_binario,K,r,dS,S0,T,N,tipo='binario')"
   ]
  },
  {
   "cell_type": "markdown",
   "id": "df9fe859",
   "metadata": {},
   "source": [
    "## Calcular el error\n",
    "\n",
    "Calcular el error en términos del tamaño de las subdiviciones de $\\Delta t$ y $\\Delta S$ de la\n",
    "discretización."
   ]
  },
  {
   "cell_type": "code",
   "execution_count": 6,
   "id": "77e21115",
   "metadata": {},
   "outputs": [
    {
     "name": "stdout",
     "output_type": "stream",
     "text": [
      "M=10, N=10 -> Valor numérico: 4.2935, Valor exacto: 11.0860, Error: 6.7925e+00\n",
      "M=20, N=20 -> Valor numérico: 5.1062, Valor exacto: 11.0860, Error: 5.9798e+00\n",
      "M=50, N=50 -> Valor numérico: 5.2174, Valor exacto: 11.0860, Error: 5.8686e+00\n",
      "M=100, N=100 -> Valor numérico: 5.2331, Valor exacto: 11.0860, Error: 5.8529e+00\n",
      "M=200, N=200 -> Valor numérico: 5.2398, Valor exacto: 11.0860, Error: 5.8462e+00\n",
      "M=500, N=500 -> Valor numérico: 5.2427, Valor exacto: 11.0860, Error: 5.8433e+00\n",
      "M=1000, N=1000 -> Valor numérico: 5.2435, Valor exacto: 11.0860, Error: 5.8425e+00\n",
      "M=10, N=10 -> Valor numérico: 0.1747, Valor exacto: 0.3857, Error: 2.1091e-01\n",
      "M=20, N=20 -> Valor numérico: 0.2927, Valor exacto: 0.3857, Error: 9.2996e-02\n",
      "M=50, N=50 -> Valor numérico: 0.4314, Valor exacto: 0.3857, Error: 4.5737e-02\n",
      "M=100, N=100 -> Valor numérico: 0.4079, Valor exacto: 0.3857, Error: 2.2237e-02\n",
      "M=200, N=200 -> Valor numérico: 0.3966, Valor exacto: 0.3857, Error: 1.0990e-02\n",
      "M=500, N=500 -> Valor numérico: 0.3820, Valor exacto: 0.3857, Error: 3.6639e-03\n",
      "M=1000, N=1000 -> Valor numérico: 0.3838, Valor exacto: 0.3857, Error: 1.8351e-03\n"
     ]
    }
   ],
   "source": [
    "valoresMN=[(10,10), (20,20), (50,50), (100,100), (200,200), (500,500), (1000,1000)]\n",
    "errores_put = Funciones.calcular_errores(S0, K, r, sigma, T, valoresMN,S_max,tipo='put')\n",
    "errores_binario = Funciones.calcular_errores(S0, K, r, sigma, T, valoresMN,S_max,tipo='binario')\n",
    "\n",
    "for M, N, num, ref, err in errores_put:\n",
    "    print(f\"M={M}, N={N} -> Valor numérico: {num:.4f}, Valor exacto: {ref:.4f}, Error: {err:.4e}\")\n",
    "\n",
    "for M, N, num, ref, err in errores_binario:\n",
    "    print(f\"M={M}, N={N} -> Valor numérico: {num:.4f}, Valor exacto: {ref:.4f}, Error: {err:.4e}\")"
   ]
  }
 ],
 "metadata": {
  "kernelspec": {
   "display_name": "Python 3",
   "language": "python",
   "name": "python3"
  },
  "language_info": {
   "codemirror_mode": {
    "name": "ipython",
    "version": 3
   },
   "file_extension": ".py",
   "mimetype": "text/x-python",
   "name": "python",
   "nbconvert_exporter": "python",
   "pygments_lexer": "ipython3",
   "version": "3.12.4"
  }
 },
 "nbformat": 4,
 "nbformat_minor": 5
}
