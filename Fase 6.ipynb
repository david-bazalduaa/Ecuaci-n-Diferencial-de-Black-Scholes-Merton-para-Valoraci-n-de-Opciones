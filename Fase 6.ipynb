{
 "cells": [
  {
   "cell_type": "markdown",
   "id": "05d50bdb",
   "metadata": {},
   "source": [
    "### Fase 6: Resolución numérica de la Ecuación diferencial de Black-Scholes-Merton\n",
    "\n",
    "Implementar un esquema de diferencias finitas implícitas para resolver la ecuación diferencial de Black-Scholes-Merton, en el caso de una PUT europea y una opción binaria. Para esto debe:\n",
    "\n",
    "- Discretizar el dominio de tiempo y riqueza.\n",
    "- Implementar condiciones de frontera apropiadas.\n",
    "- Solucionar la ecuación diferencial parcial.\n",
    "- Calcular el error en términos del tamaño de las subdivisiones de $\\Delta t$ y $\\Delta S$ de la discretización.\n",
    "- Comparar la solución numérica con resultados de la simulación por Monte-Carlo.\n"
   ]
  },
  {
   "cell_type": "markdown",
   "id": "0b249897",
   "metadata": {},
   "source": []
  }
 ],
 "metadata": {
  "language_info": {
   "name": "python"
  }
 },
 "nbformat": 4,
 "nbformat_minor": 5
}
