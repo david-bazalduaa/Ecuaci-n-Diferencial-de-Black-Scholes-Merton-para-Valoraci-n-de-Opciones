{
 "cells": [
  {
   "cell_type": "markdown",
   "id": "afb3a966",
   "metadata": {},
   "source": [
    "### Fase 2\n",
    "\n",
    "Interpretación como sistema de control. Trate el precio del activo $S(t)$ como la entrada del sistema y el valor de la opción $V(t)$ como la salida. Aproxime el sistema mediante una versión determinista o linealizada. Considere discretizar el espacio $S$ para obtener un sistema de ecuaciones diferenciales ordinarias (ODEs).\n",
    "\n",
    "Construya un diagrama de bloques que muestre cómo las entradas $S(t)$ influyen sobre la evolución de $V(t)$. Considere incluir:\n",
    "\n",
    "- Bloques integradores para representar la dinámica temporal.\n",
    "- Bloques de ganancia para los coeficientes $r$, $\\sigma$.\n",
    "- Un bucle de retroalimentación con ganancia $-r$ correspondiente al descuento.\n",
    "\n",
    "El objetivo es mostrar el modelo del sistema en espacio de estados o función de transferencia y el diagrama de bloques completo con entradas, salidas y lazos de retroalimentación.\n"
   ]
  }
 ],
 "metadata": {
  "language_info": {
   "name": "python"
  }
 },
 "nbformat": 4,
 "nbformat_minor": 5
}
